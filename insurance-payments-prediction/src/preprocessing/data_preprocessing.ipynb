{
 "cells": [
  {
   "cell_type": "markdown",
   "source": [
    "# Intial Data Preprocessing and creating a combined dataset"
   ],
   "metadata": {
    "collapsed": false
   }
  },
  {
   "cell_type": "code",
   "execution_count": null,
   "outputs": [],
   "source": [
    "# Importing required libraries\n",
    "import pandas as pd"
   ],
   "metadata": {
    "collapsed": false
   }
  },
  {
   "cell_type": "markdown",
   "source": [
    "## Preprocess Hospital Dataset"
   ],
   "metadata": {
    "collapsed": false
   }
  },
  {
   "cell_type": "code",
   "execution_count": 20,
   "outputs": [],
   "source": [
    "# Read hospital data\n",
    "hospital_data = pd.read_csv('../../../data/raw/Hospital_Master_Sheet.csv')"
   ],
   "metadata": {
    "collapsed": false
   }
  },
  {
   "cell_type": "code",
   "execution_count": 21,
   "outputs": [
    {
     "data": {
      "text/plain": "Index(['prvdr_num', 'prvdr_name', 'prvdr_address', 'city', 'state',\n       'prov_region', 'zip', 'CBSA_CD', 'MSA_CD', 'ownership', 'urban_rural',\n       'teaching', 'UCN', 'beds_grp', 'org_npi_num', 'IDN', 'IDN_parent',\n       'Covid_payment'],\n      dtype='object')"
     },
     "execution_count": 21,
     "metadata": {},
     "output_type": "execute_result"
    }
   ],
   "source": [
    "# Print dataframe columns\n",
    "hospital_data.columns"
   ],
   "metadata": {
    "collapsed": false
   }
  },
  {
   "cell_type": "code",
   "execution_count": 24,
   "outputs": [
    {
     "data": {
      "text/plain": "   prvdr_num                            prvdr_name         prvdr_address  \\\n0     330195     LONG ISLAND JEWISH MEDICAL CENTER  270 - 05 76TH AVENUE   \n1     330194             MAIMONIDES MEDICAL CENTER     4802 TENTH AVENUE   \n2     220071        MASSACHUSETTS GENERAL HOSPITAL       55 FRUIT STREET   \n3     310001  HACKENSACK UNIVERSITY MEDICAL CENTER       30 PROSPECT AVE   \n4     330234            WESTCHESTER MEDICAL CENTER          100 WOODS RD   \n\n            city state prov_region    zip  CBSA_CD  MSA_CD  \\\n0  NEW HYDE PARK    NY   NORTHEAST  11040    35614   35614   \n1       BROOKLYN    NY   NORTHEAST  11219    35614   35614   \n2         BOSTON    MA   NORTHEAST   2114    14454   14454   \n3     HACKENSACK    NJ   NORTHEAST   7601    35614   35614   \n4       VALHALLA    NY   NORTHEAST  10595    35614   35614   \n\n                        ownership urban_rural teaching      UCN beds_grp  \\\n0        PRIVATE (NOT FOR PROFIT)       URBAN      YES   2530.0     500+   \n1        PRIVATE (NOT FOR PROFIT)       URBAN      YES   2537.0     500+   \n2        PRIVATE (NOT FOR PROFIT)       URBAN      YES  45256.0     500+   \n3        PRIVATE (NOT FOR PROFIT)       URBAN      YES   2434.0     500+   \n4  HOSPITAL DISTRICT OR AUTHORITY       URBAN      YES   4390.0     500+   \n\n    org_npi_num                                                IDN  \\\n0  1.285642e+09  Northwell Health (AKA: North Shore Long Island...   \n1  1.093777e+09                                                NaN   \n2  1.023049e+09                                Partners HealthCare   \n3  1.457456e+09               Hackensack University Health Network   \n4  1.932281e+09          Westchester Medical Center Health Network   \n\n                                  IDN_parent  Covid_payment  \n0                                        NaN   2.787899e+08  \n1                                        NaN   1.534679e+08  \n2                                        NaN   1.000620e+08  \n3                 Hackensack Meridian Health   9.818762e+07  \n4  Westchester Medical Center Health Network   9.588076e+07  ",
      "text/html": "<div>\n<style scoped>\n    .dataframe tbody tr th:only-of-type {\n        vertical-align: middle;\n    }\n\n    .dataframe tbody tr th {\n        vertical-align: top;\n    }\n\n    .dataframe thead th {\n        text-align: right;\n    }\n</style>\n<table border=\"1\" class=\"dataframe\">\n  <thead>\n    <tr style=\"text-align: right;\">\n      <th></th>\n      <th>prvdr_num</th>\n      <th>prvdr_name</th>\n      <th>prvdr_address</th>\n      <th>city</th>\n      <th>state</th>\n      <th>prov_region</th>\n      <th>zip</th>\n      <th>CBSA_CD</th>\n      <th>MSA_CD</th>\n      <th>ownership</th>\n      <th>urban_rural</th>\n      <th>teaching</th>\n      <th>UCN</th>\n      <th>beds_grp</th>\n      <th>org_npi_num</th>\n      <th>IDN</th>\n      <th>IDN_parent</th>\n      <th>Covid_payment</th>\n    </tr>\n  </thead>\n  <tbody>\n    <tr>\n      <th>0</th>\n      <td>330195</td>\n      <td>LONG ISLAND JEWISH MEDICAL CENTER</td>\n      <td>270 - 05 76TH AVENUE</td>\n      <td>NEW HYDE PARK</td>\n      <td>NY</td>\n      <td>NORTHEAST</td>\n      <td>11040</td>\n      <td>35614</td>\n      <td>35614</td>\n      <td>PRIVATE (NOT FOR PROFIT)</td>\n      <td>URBAN</td>\n      <td>YES</td>\n      <td>2530.0</td>\n      <td>500+</td>\n      <td>1.285642e+09</td>\n      <td>Northwell Health (AKA: North Shore Long Island...</td>\n      <td>NaN</td>\n      <td>2.787899e+08</td>\n    </tr>\n    <tr>\n      <th>1</th>\n      <td>330194</td>\n      <td>MAIMONIDES MEDICAL CENTER</td>\n      <td>4802 TENTH AVENUE</td>\n      <td>BROOKLYN</td>\n      <td>NY</td>\n      <td>NORTHEAST</td>\n      <td>11219</td>\n      <td>35614</td>\n      <td>35614</td>\n      <td>PRIVATE (NOT FOR PROFIT)</td>\n      <td>URBAN</td>\n      <td>YES</td>\n      <td>2537.0</td>\n      <td>500+</td>\n      <td>1.093777e+09</td>\n      <td>NaN</td>\n      <td>NaN</td>\n      <td>1.534679e+08</td>\n    </tr>\n    <tr>\n      <th>2</th>\n      <td>220071</td>\n      <td>MASSACHUSETTS GENERAL HOSPITAL</td>\n      <td>55 FRUIT STREET</td>\n      <td>BOSTON</td>\n      <td>MA</td>\n      <td>NORTHEAST</td>\n      <td>2114</td>\n      <td>14454</td>\n      <td>14454</td>\n      <td>PRIVATE (NOT FOR PROFIT)</td>\n      <td>URBAN</td>\n      <td>YES</td>\n      <td>45256.0</td>\n      <td>500+</td>\n      <td>1.023049e+09</td>\n      <td>Partners HealthCare</td>\n      <td>NaN</td>\n      <td>1.000620e+08</td>\n    </tr>\n    <tr>\n      <th>3</th>\n      <td>310001</td>\n      <td>HACKENSACK UNIVERSITY MEDICAL CENTER</td>\n      <td>30 PROSPECT AVE</td>\n      <td>HACKENSACK</td>\n      <td>NJ</td>\n      <td>NORTHEAST</td>\n      <td>7601</td>\n      <td>35614</td>\n      <td>35614</td>\n      <td>PRIVATE (NOT FOR PROFIT)</td>\n      <td>URBAN</td>\n      <td>YES</td>\n      <td>2434.0</td>\n      <td>500+</td>\n      <td>1.457456e+09</td>\n      <td>Hackensack University Health Network</td>\n      <td>Hackensack Meridian Health</td>\n      <td>9.818762e+07</td>\n    </tr>\n    <tr>\n      <th>4</th>\n      <td>330234</td>\n      <td>WESTCHESTER MEDICAL CENTER</td>\n      <td>100 WOODS RD</td>\n      <td>VALHALLA</td>\n      <td>NY</td>\n      <td>NORTHEAST</td>\n      <td>10595</td>\n      <td>35614</td>\n      <td>35614</td>\n      <td>HOSPITAL DISTRICT OR AUTHORITY</td>\n      <td>URBAN</td>\n      <td>YES</td>\n      <td>4390.0</td>\n      <td>500+</td>\n      <td>1.932281e+09</td>\n      <td>Westchester Medical Center Health Network</td>\n      <td>Westchester Medical Center Health Network</td>\n      <td>9.588076e+07</td>\n    </tr>\n  </tbody>\n</table>\n</div>"
     },
     "execution_count": 24,
     "metadata": {},
     "output_type": "execute_result"
    }
   ],
   "source": [
    "# Print dataframe\n",
    "hospital_data.head()"
   ],
   "metadata": {
    "collapsed": false
   }
  },
  {
   "cell_type": "code",
   "execution_count": null,
   "outputs": [],
   "source": [
    "# Compute hospital count\n",
    "hospital_msa_count = hospital_data.groupby(['MSA_CD']).count().reset_index()\n",
    "hospital_msa_count = hospital_msa_count[['MSA_CD', 'prvdr_name']]\n",
    "hospital_msa_count.rename(columns={'MSA_CD': 'msa', 'prvdr_name': 'hospital_count'}, inplace=True)"
   ],
   "metadata": {
    "collapsed": false
   }
  },
  {
   "cell_type": "code",
   "execution_count": null,
   "outputs": [],
   "source": [
    "hospital_msa_count.head()"
   ],
   "metadata": {
    "collapsed": false
   }
  },
  {
   "cell_type": "code",
   "execution_count": null,
   "outputs": [],
   "source": [],
   "metadata": {
    "collapsed": false
   }
  },
  {
   "cell_type": "code",
   "execution_count": 28,
   "outputs": [],
   "source": [
    "# Drop irrelevant cols\n",
    "hospital_data.drop(['prov_region',\n",
    "                    'CBSA_CD',\n",
    "                    'zip',\n",
    "                    'city',\n",
    "                    'state',\n",
    "                    'prvdr_num',\n",
    "                    'prvdr_name',\n",
    "                    'prvdr_address','IDN','IDN_parent','UCN','org_npi_num'],axis=1, inplace=True)"
   ],
   "metadata": {
    "collapsed": false
   }
  },
  {
   "cell_type": "code",
   "execution_count": null,
   "outputs": [],
   "source": [
    "beds_grp_mapping = {'000-099': 50, '100-199': 150, '200-299': 250, '300-399': 350, '400-499': 450, '500+': 500}\n",
    "hospital_data['beds_grp'] = hospital_data['beds_grp'].apply(lambda grp: beds_grp_mapping[grp])\n",
    "hospital_data['beds_grp_greater_500'] = (hospital_data['beds_grp'] == 500)\n",
    "hospital_data['beds_grp_greater_500'] = hospital_data['beds_grp_greater_500'].astype(int)"
   ],
   "metadata": {
    "collapsed": false
   }
  },
  {
   "cell_type": "code",
   "execution_count": null,
   "outputs": [],
   "source": [
    "# Check df\n",
    "hospital_data.head()"
   ],
   "metadata": {
    "collapsed": false
   }
  },
  {
   "cell_type": "markdown",
   "source": [
    "### One hot encoding of categorical columns"
   ],
   "metadata": {
    "collapsed": false
   }
  },
  {
   "cell_type": "code",
   "execution_count": 30,
   "outputs": [],
   "source": [
    "# Do one hot encoding of cols\n",
    "one_hot_cols = ['ownership',\n",
    "                'urban_rural',\n",
    "                'teaching']"
   ],
   "metadata": {
    "collapsed": false
   }
  },
  {
   "cell_type": "code",
   "execution_count": 31,
   "outputs": [],
   "source": [
    "# Do one hot encoding\n",
    "hospital_data = pd.get_dummies(hospital_data, columns=one_hot_cols, drop_first=True)"
   ],
   "metadata": {
    "collapsed": false
   }
  },
  {
   "cell_type": "code",
   "execution_count": 32,
   "outputs": [],
   "source": [
    "# Rename msa col\n",
    "hospital_data = hospital_data.rename(columns={'MSA_CD':'msa'})"
   ],
   "metadata": {
    "collapsed": false
   }
  },
  {
   "cell_type": "code",
   "execution_count": 33,
   "outputs": [
    {
     "data": {
      "text/plain": "Index(['msa', 'Covid_payment', 'ownership_FEDERAL',\n       'ownership_HOSPITAL DISTRICT OR AUTHORITY', 'ownership_LOCAL',\n       'ownership_OTHER (SPECIFY)', 'ownership_PHYSICIAN OWNERSHIP',\n       'ownership_PRIVATE (FOR PROFIT)', 'ownership_PRIVATE (NOT FOR PROFIT)',\n       'ownership_STATE', 'ownership_TRIBAL', 'urban_rural_URBAN',\n       'teaching_YES', 'beds_grp_100-199', 'beds_grp_200-299',\n       'beds_grp_300-399', 'beds_grp_400-499', 'beds_grp_500+'],\n      dtype='object')"
     },
     "execution_count": 33,
     "metadata": {},
     "output_type": "execute_result"
    }
   ],
   "source": [
    "# print list of cols\n",
    "hospital_data.columns"
   ],
   "metadata": {
    "collapsed": false
   }
  },
  {
   "cell_type": "code",
   "execution_count": 34,
   "outputs": [],
   "source": [
    "df_agg_cols_mean = hospital_data.groupby('msa').agg('mean').add_suffix('_mean').reset_index()\n",
    "# Agg data by count\n",
    "df_agg_cols_count = hospital_data.groupby('msa').agg('count').add_suffix('_count').reset_index()\n",
    "# checks if the values exists\n",
    "df_agg_cols_exists = hospital_data.groupby('msa').agg('max').add_suffix('_exists').reset_index()\n",
    "# Get median of cols\n",
    "df_agg_cols_median = hospital_data.groupby('msa').agg('median').add_suffix('_median').reset_index()\n",
    "# Get mode of cols\n",
    "df_agg_cols_mode = hospital_data.groupby('msa').agg('median').add_suffix('_mode').reset_index()"
   ],
   "metadata": {
    "collapsed": false
   }
  },
  {
   "cell_type": "code",
   "execution_count": 9,
   "outputs": [],
   "source": [
    "# Merge dataframes\n",
    "merged_df = pd.merge(\n",
    "    df_agg_cols_mean,\n",
    "    df_agg_cols_count,\n",
    "    how=\"inner\",\n",
    "    on='msa')\n",
    "\n",
    "merged_df = pd.merge(\n",
    "    merged_df,\n",
    "    df_agg_cols_exists,\n",
    "    how=\"inner\",\n",
    "    on='msa')\n",
    "\n",
    "merged_df = pd.merge(\n",
    "    merged_df,\n",
    "    df_agg_cols_median,\n",
    "    how=\"inner\",\n",
    "    on='msa')\n",
    "\n",
    "merged_df = pd.merge(\n",
    "    merged_df,\n",
    "    df_agg_cols_mode,\n",
    "    how=\"inner\",\n",
    "    on='msa')\n",
    "\n",
    "merged_df = pd.merge(\n",
    "    merged_df,\n",
    "    hospital_msa_count,\n",
    "    how=\"inner\",\n",
    "    on='msa')"
   ],
   "metadata": {
    "collapsed": false
   }
  },
  {
   "cell_type": "code",
   "execution_count": 13,
   "outputs": [
    {
     "data": {
      "text/plain": "   msa  Covid_payment_mean  ownership_FEDERAL_mean  \\\n0    1        4.859510e+05                0.046875   \n1    2        0.000000e+00                0.153846   \n2    3        1.025000e+06                0.277778   \n3    4        1.690141e+04                0.000000   \n4    5        0.000000e+00                0.000000   \n\n   ownership_HOSPITAL DISTRICT OR AUTHORITY_mean  ownership_LOCAL_mean  \\\n0                                       0.265625              0.078125   \n1                                       0.000000              0.230769   \n2                                       0.055556              0.055556   \n3                                       0.000000              0.281690   \n4                                       0.357143              0.119048   \n\n   ownership_OTHER (SPECIFY)_mean  ownership_PHYSICIAN OWNERSHIP_mean  \\\n0                        0.109375                                 0.0   \n1                        0.307692                                 0.0   \n2                        0.111111                                 0.0   \n3                        0.056338                                 0.0   \n4                        0.190476                                 0.0   \n\n   ownership_PRIVATE (FOR PROFIT)_mean  \\\n0                             0.328125   \n1                             0.000000   \n2                             0.166667   \n3                             0.225352   \n4                             0.071429   \n\n   ownership_PRIVATE (NOT FOR PROFIT)_mean  ownership_STATE_mean  ...  \\\n0                                 0.156250                   0.0  ...   \n1                                 0.153846                   0.0  ...   \n2                                 0.277778                   0.0  ...   \n3                                 0.366197                   0.0  ...   \n4                                 0.142857                   0.0  ...   \n\n   ownership_PRIVATE (NOT FOR PROFIT)_mode  ownership_STATE_mode  \\\n0                                      0.0                   0.0   \n1                                      0.0                   0.0   \n2                                      0.0                   0.0   \n3                                      0.0                   0.0   \n4                                      0.0                   0.0   \n\n   ownership_TRIBAL_mode  urban_rural_URBAN_mode  teaching_YES_mode  \\\n0                    0.0                     0.0                0.0   \n1                    0.0                     0.0                0.0   \n2                    0.0                     0.0                0.0   \n3                    0.0                     0.0                0.0   \n4                    0.0                     0.0                0.0   \n\n   beds_grp_100-199_mode  beds_grp_200-299_mode  beds_grp_300-399_mode  \\\n0                    0.0                    0.0                    0.0   \n1                    0.0                    0.0                    0.0   \n2                    0.0                    0.0                    0.0   \n3                    0.0                    0.0                    0.0   \n4                    0.0                    0.0                    0.0   \n\n   beds_grp_400-499_mode  beds_grp_500+_mode  \n0                    0.0                 0.0  \n1                    0.0                 0.0  \n2                    0.0                 0.0  \n3                    0.0                 0.0  \n4                    0.0                 0.0  \n\n[5 rows x 86 columns]",
      "text/html": "<div>\n<style scoped>\n    .dataframe tbody tr th:only-of-type {\n        vertical-align: middle;\n    }\n\n    .dataframe tbody tr th {\n        vertical-align: top;\n    }\n\n    .dataframe thead th {\n        text-align: right;\n    }\n</style>\n<table border=\"1\" class=\"dataframe\">\n  <thead>\n    <tr style=\"text-align: right;\">\n      <th></th>\n      <th>msa</th>\n      <th>Covid_payment_mean</th>\n      <th>ownership_FEDERAL_mean</th>\n      <th>ownership_HOSPITAL DISTRICT OR AUTHORITY_mean</th>\n      <th>ownership_LOCAL_mean</th>\n      <th>ownership_OTHER (SPECIFY)_mean</th>\n      <th>ownership_PHYSICIAN OWNERSHIP_mean</th>\n      <th>ownership_PRIVATE (FOR PROFIT)_mean</th>\n      <th>ownership_PRIVATE (NOT FOR PROFIT)_mean</th>\n      <th>ownership_STATE_mean</th>\n      <th>...</th>\n      <th>ownership_PRIVATE (NOT FOR PROFIT)_mode</th>\n      <th>ownership_STATE_mode</th>\n      <th>ownership_TRIBAL_mode</th>\n      <th>urban_rural_URBAN_mode</th>\n      <th>teaching_YES_mode</th>\n      <th>beds_grp_100-199_mode</th>\n      <th>beds_grp_200-299_mode</th>\n      <th>beds_grp_300-399_mode</th>\n      <th>beds_grp_400-499_mode</th>\n      <th>beds_grp_500+_mode</th>\n    </tr>\n  </thead>\n  <tbody>\n    <tr>\n      <th>0</th>\n      <td>1</td>\n      <td>4.859510e+05</td>\n      <td>0.046875</td>\n      <td>0.265625</td>\n      <td>0.078125</td>\n      <td>0.109375</td>\n      <td>0.0</td>\n      <td>0.328125</td>\n      <td>0.156250</td>\n      <td>0.0</td>\n      <td>...</td>\n      <td>0.0</td>\n      <td>0.0</td>\n      <td>0.0</td>\n      <td>0.0</td>\n      <td>0.0</td>\n      <td>0.0</td>\n      <td>0.0</td>\n      <td>0.0</td>\n      <td>0.0</td>\n      <td>0.0</td>\n    </tr>\n    <tr>\n      <th>1</th>\n      <td>2</td>\n      <td>0.000000e+00</td>\n      <td>0.153846</td>\n      <td>0.000000</td>\n      <td>0.230769</td>\n      <td>0.307692</td>\n      <td>0.0</td>\n      <td>0.000000</td>\n      <td>0.153846</td>\n      <td>0.0</td>\n      <td>...</td>\n      <td>0.0</td>\n      <td>0.0</td>\n      <td>0.0</td>\n      <td>0.0</td>\n      <td>0.0</td>\n      <td>0.0</td>\n      <td>0.0</td>\n      <td>0.0</td>\n      <td>0.0</td>\n      <td>0.0</td>\n    </tr>\n    <tr>\n      <th>2</th>\n      <td>3</td>\n      <td>1.025000e+06</td>\n      <td>0.277778</td>\n      <td>0.055556</td>\n      <td>0.055556</td>\n      <td>0.111111</td>\n      <td>0.0</td>\n      <td>0.166667</td>\n      <td>0.277778</td>\n      <td>0.0</td>\n      <td>...</td>\n      <td>0.0</td>\n      <td>0.0</td>\n      <td>0.0</td>\n      <td>0.0</td>\n      <td>0.0</td>\n      <td>0.0</td>\n      <td>0.0</td>\n      <td>0.0</td>\n      <td>0.0</td>\n      <td>0.0</td>\n    </tr>\n    <tr>\n      <th>3</th>\n      <td>4</td>\n      <td>1.690141e+04</td>\n      <td>0.000000</td>\n      <td>0.000000</td>\n      <td>0.281690</td>\n      <td>0.056338</td>\n      <td>0.0</td>\n      <td>0.225352</td>\n      <td>0.366197</td>\n      <td>0.0</td>\n      <td>...</td>\n      <td>0.0</td>\n      <td>0.0</td>\n      <td>0.0</td>\n      <td>0.0</td>\n      <td>0.0</td>\n      <td>0.0</td>\n      <td>0.0</td>\n      <td>0.0</td>\n      <td>0.0</td>\n      <td>0.0</td>\n    </tr>\n    <tr>\n      <th>4</th>\n      <td>5</td>\n      <td>0.000000e+00</td>\n      <td>0.000000</td>\n      <td>0.357143</td>\n      <td>0.119048</td>\n      <td>0.190476</td>\n      <td>0.0</td>\n      <td>0.071429</td>\n      <td>0.142857</td>\n      <td>0.0</td>\n      <td>...</td>\n      <td>0.0</td>\n      <td>0.0</td>\n      <td>0.0</td>\n      <td>0.0</td>\n      <td>0.0</td>\n      <td>0.0</td>\n      <td>0.0</td>\n      <td>0.0</td>\n      <td>0.0</td>\n      <td>0.0</td>\n    </tr>\n  </tbody>\n</table>\n<p>5 rows × 86 columns</p>\n</div>"
     },
     "execution_count": 13,
     "metadata": {},
     "output_type": "execute_result"
    }
   ],
   "source": [
    "merged_df.head()"
   ],
   "metadata": {
    "collapsed": false
   }
  },
  {
   "cell_type": "code",
   "execution_count": 135,
   "outputs": [],
   "source": [
    "merged_df.to_csv('../../../data/preprocessed/hospital_data_preprocessed.csv',index=False)"
   ],
   "metadata": {
    "collapsed": false
   }
  },
  {
   "cell_type": "markdown",
   "source": [
    "## Preprocess MSA Data"
   ],
   "metadata": {
    "collapsed": false
   }
  },
  {
   "cell_type": "code",
   "execution_count": 33,
   "outputs": [],
   "source": [
    "msa_data_df = pd.read_csv('../../../data/raw/msa2020.csv', encoding='ISO-8859-1')"
   ],
   "metadata": {
    "collapsed": false
   }
  },
  {
   "cell_type": "code",
   "execution_count": 34,
   "outputs": [
    {
     "data": {
      "text/plain": "    CBSA  MDIV    STCOU                 NAME                           LSAD  \\\n0  10180   NaN      NaN          Abilene, TX  Metropolitan Statistical Area   \n1  10180   NaN  48059.0  Callahan County, TX           County or equivalent   \n2  10180   NaN  48253.0     Jones County, TX           County or equivalent   \n3  10180   NaN  48441.0    Taylor County, TX           County or equivalent   \n4  10420   NaN      NaN            Akron, OH  Metropolitan Statistical Area   \n\n   CENSUS2010POP  ESTIMATESBASE2010  POPESTIMATE2010  POPESTIMATE2011  \\\n0         165252             165252           165590           166651   \n1          13544              13545            13511            13513   \n2          20202              20192            20237            20271   \n3         131506             131515           131842           132867   \n4         703200             703215           703056           703262   \n\n   POPESTIMATE2012  ...  RESIDUAL2011  RESIDUAL2012  RESIDUAL2013  \\\n0           167483  ...            -4           -10            23   \n1            13488  ...            -1            -2            -2   \n2            19873  ...             3            14             4   \n3           134122  ...            -6           -22            21   \n4           702224  ...           -14           -49           -87   \n\n   RESIDUAL2014  RESIDUAL2015  RESIDUAL2016  RESIDUAL2017  RESIDUAL2018  \\\n0           -20           -17            -5            -5            -4   \n1            -1            -1             0             0             0   \n2             2             1            -1             0             0   \n3           -21           -17            -4            -5            -4   \n4          -121           -48           -18           -29           -11   \n\n   RESIDUAL2019  RESIDUAL2020  \n0             0             9  \n1             0            -1  \n2            -2             0  \n3             2            10  \n4            17            19  \n\n[5 rows x 106 columns]",
      "text/html": "<div>\n<style scoped>\n    .dataframe tbody tr th:only-of-type {\n        vertical-align: middle;\n    }\n\n    .dataframe tbody tr th {\n        vertical-align: top;\n    }\n\n    .dataframe thead th {\n        text-align: right;\n    }\n</style>\n<table border=\"1\" class=\"dataframe\">\n  <thead>\n    <tr style=\"text-align: right;\">\n      <th></th>\n      <th>CBSA</th>\n      <th>MDIV</th>\n      <th>STCOU</th>\n      <th>NAME</th>\n      <th>LSAD</th>\n      <th>CENSUS2010POP</th>\n      <th>ESTIMATESBASE2010</th>\n      <th>POPESTIMATE2010</th>\n      <th>POPESTIMATE2011</th>\n      <th>POPESTIMATE2012</th>\n      <th>...</th>\n      <th>RESIDUAL2011</th>\n      <th>RESIDUAL2012</th>\n      <th>RESIDUAL2013</th>\n      <th>RESIDUAL2014</th>\n      <th>RESIDUAL2015</th>\n      <th>RESIDUAL2016</th>\n      <th>RESIDUAL2017</th>\n      <th>RESIDUAL2018</th>\n      <th>RESIDUAL2019</th>\n      <th>RESIDUAL2020</th>\n    </tr>\n  </thead>\n  <tbody>\n    <tr>\n      <th>0</th>\n      <td>10180</td>\n      <td>NaN</td>\n      <td>NaN</td>\n      <td>Abilene, TX</td>\n      <td>Metropolitan Statistical Area</td>\n      <td>165252</td>\n      <td>165252</td>\n      <td>165590</td>\n      <td>166651</td>\n      <td>167483</td>\n      <td>...</td>\n      <td>-4</td>\n      <td>-10</td>\n      <td>23</td>\n      <td>-20</td>\n      <td>-17</td>\n      <td>-5</td>\n      <td>-5</td>\n      <td>-4</td>\n      <td>0</td>\n      <td>9</td>\n    </tr>\n    <tr>\n      <th>1</th>\n      <td>10180</td>\n      <td>NaN</td>\n      <td>48059.0</td>\n      <td>Callahan County, TX</td>\n      <td>County or equivalent</td>\n      <td>13544</td>\n      <td>13545</td>\n      <td>13511</td>\n      <td>13513</td>\n      <td>13488</td>\n      <td>...</td>\n      <td>-1</td>\n      <td>-2</td>\n      <td>-2</td>\n      <td>-1</td>\n      <td>-1</td>\n      <td>0</td>\n      <td>0</td>\n      <td>0</td>\n      <td>0</td>\n      <td>-1</td>\n    </tr>\n    <tr>\n      <th>2</th>\n      <td>10180</td>\n      <td>NaN</td>\n      <td>48253.0</td>\n      <td>Jones County, TX</td>\n      <td>County or equivalent</td>\n      <td>20202</td>\n      <td>20192</td>\n      <td>20237</td>\n      <td>20271</td>\n      <td>19873</td>\n      <td>...</td>\n      <td>3</td>\n      <td>14</td>\n      <td>4</td>\n      <td>2</td>\n      <td>1</td>\n      <td>-1</td>\n      <td>0</td>\n      <td>0</td>\n      <td>-2</td>\n      <td>0</td>\n    </tr>\n    <tr>\n      <th>3</th>\n      <td>10180</td>\n      <td>NaN</td>\n      <td>48441.0</td>\n      <td>Taylor County, TX</td>\n      <td>County or equivalent</td>\n      <td>131506</td>\n      <td>131515</td>\n      <td>131842</td>\n      <td>132867</td>\n      <td>134122</td>\n      <td>...</td>\n      <td>-6</td>\n      <td>-22</td>\n      <td>21</td>\n      <td>-21</td>\n      <td>-17</td>\n      <td>-4</td>\n      <td>-5</td>\n      <td>-4</td>\n      <td>2</td>\n      <td>10</td>\n    </tr>\n    <tr>\n      <th>4</th>\n      <td>10420</td>\n      <td>NaN</td>\n      <td>NaN</td>\n      <td>Akron, OH</td>\n      <td>Metropolitan Statistical Area</td>\n      <td>703200</td>\n      <td>703215</td>\n      <td>703056</td>\n      <td>703262</td>\n      <td>702224</td>\n      <td>...</td>\n      <td>-14</td>\n      <td>-49</td>\n      <td>-87</td>\n      <td>-121</td>\n      <td>-48</td>\n      <td>-18</td>\n      <td>-29</td>\n      <td>-11</td>\n      <td>17</td>\n      <td>19</td>\n    </tr>\n  </tbody>\n</table>\n<p>5 rows × 106 columns</p>\n</div>"
     },
     "execution_count": 34,
     "metadata": {},
     "output_type": "execute_result"
    }
   ],
   "source": [
    "msa_data_df.head()"
   ],
   "metadata": {
    "collapsed": false
   }
  },
  {
   "cell_type": "code",
   "execution_count": 35,
   "outputs": [],
   "source": [
    "# Filter MSA's\n",
    "msa_data_df = msa_data_df[msa_data_df['LSAD'] == 'Metropolitan Statistical Area']"
   ],
   "metadata": {
    "collapsed": false
   }
  },
  {
   "cell_type": "code",
   "execution_count": 36,
   "outputs": [],
   "source": [
    "# Extract relevant cols\n",
    "msa_data_df = msa_data_df[['CBSA', 'POPESTIMATE2020']]"
   ],
   "metadata": {
    "collapsed": false
   }
  },
  {
   "cell_type": "code",
   "execution_count": 37,
   "outputs": [],
   "source": [
    "# Rename cols\n",
    "msa_data_df = msa_data_df.rename(columns={'CBSA':'msa', 'POPESTIMATE2020': 'population_estimate_2020'})"
   ],
   "metadata": {
    "collapsed": false
   }
  },
  {
   "cell_type": "code",
   "execution_count": 38,
   "outputs": [
    {
     "data": {
      "text/plain": "      msa  population_estimate_2020\n0   10180                    173185\n4   10420                    701449\n7   10500                    145206\n12  10540                    131054\n14  10580                    878550",
      "text/html": "<div>\n<style scoped>\n    .dataframe tbody tr th:only-of-type {\n        vertical-align: middle;\n    }\n\n    .dataframe tbody tr th {\n        vertical-align: top;\n    }\n\n    .dataframe thead th {\n        text-align: right;\n    }\n</style>\n<table border=\"1\" class=\"dataframe\">\n  <thead>\n    <tr style=\"text-align: right;\">\n      <th></th>\n      <th>msa</th>\n      <th>population_estimate_2020</th>\n    </tr>\n  </thead>\n  <tbody>\n    <tr>\n      <th>0</th>\n      <td>10180</td>\n      <td>173185</td>\n    </tr>\n    <tr>\n      <th>4</th>\n      <td>10420</td>\n      <td>701449</td>\n    </tr>\n    <tr>\n      <th>7</th>\n      <td>10500</td>\n      <td>145206</td>\n    </tr>\n    <tr>\n      <th>12</th>\n      <td>10540</td>\n      <td>131054</td>\n    </tr>\n    <tr>\n      <th>14</th>\n      <td>10580</td>\n      <td>878550</td>\n    </tr>\n  </tbody>\n</table>\n</div>"
     },
     "execution_count": 38,
     "metadata": {},
     "output_type": "execute_result"
    }
   ],
   "source": [
    "# View Df\n",
    "msa_data_df.head()"
   ],
   "metadata": {
    "collapsed": false
   }
  },
  {
   "cell_type": "code",
   "execution_count": 30,
   "outputs": [],
   "source": [
    "msa_data_df.to_csv('../../../data/preprocessed/msa_population_2020_preprocessed.csv',index=False, encoding='utf-8')"
   ],
   "metadata": {
    "collapsed": false
   }
  },
  {
   "cell_type": "markdown",
   "source": [
    "## Preprocess Average Income Dataset"
   ],
   "metadata": {
    "collapsed": false
   }
  },
  {
   "cell_type": "code",
   "execution_count": 62,
   "outputs": [],
   "source": [
    "income_df = pd.read_csv('../../../data/raw/msa_avg_income_data.csv')"
   ],
   "metadata": {
    "collapsed": false
   }
  },
  {
   "cell_type": "code",
   "execution_count": 63,
   "outputs": [
    {
     "data": {
      "text/plain": "    GeoFIPS                                      GeoName Region TableName  \\\n0   \"00000\"                                United States            MARPI   \n1   \"00999\"      United States (Nonmetropolitan Portion)            MARPI   \n2   \"10180\"  Abilene, TX (Metropolitan Statistical Area)            MARPI   \n3   \"10420\"    Akron, OH (Metropolitan Statistical Area)            MARPI   \n4   \"10500\"   Albany, GA (Metropolitan Statistical Area)            MARPI   \n\n   LineCode IndustryClassification  \\\n0         1                    ...   \n1         1                    ...   \n2         1                    ...   \n3         1                    ...   \n4         1                    ...   \n\n                                         Description  \\\n0  Real personal income (thousands of constant (2...   \n1  Real personal income (thousands of constant (2...   \n2  Real personal income (thousands of constant (2...   \n3  Real personal income (thousands of constant (2...   \n4  Real personal income (thousands of constant (2...   \n\n                                Unit         2008         2009  ...  \\\n0  Thousands of chained 2012 dollars  13226438104  12835528512  ...   \n1  Thousands of chained 2012 dollars   1759296813   1726603797  ...   \n2  Thousands of chained 2012 dollars      6516280      6417653  ...   \n3  Thousands of chained 2012 dollars     31299301     29496788  ...   \n4  Thousands of chained 2012 dollars      5457088      5560486  ...   \n\n          2011         2012         2013         2014         2015  \\\n0  13578992118  14003346000  13999660322  14549525541  15207440020   \n1   1793356792   1816098135   1818106548   1856006720   1901557051   \n2      6708568      6860195      7126927      7276677      7177769   \n3     30602854     30344944     30606195     31494725     32594998   \n4      5774623      5723514      5542406      5559543      5646138   \n\n          2016         2017         2018         2019         2020  \n0  15451718336  15883838361  16323319245  16740966295  17628679929  \n1   1905310690   1940943207   1937183350   1974120571   2115441032  \n2      6956803      7048707      7444927      7857445      8267776  \n3     32822702     33296567     34431634     35130005     37353892  \n4      5581975      5705634      5760768      6074927      6620352  \n\n[5 rows x 21 columns]",
      "text/html": "<div>\n<style scoped>\n    .dataframe tbody tr th:only-of-type {\n        vertical-align: middle;\n    }\n\n    .dataframe tbody tr th {\n        vertical-align: top;\n    }\n\n    .dataframe thead th {\n        text-align: right;\n    }\n</style>\n<table border=\"1\" class=\"dataframe\">\n  <thead>\n    <tr style=\"text-align: right;\">\n      <th></th>\n      <th>GeoFIPS</th>\n      <th>GeoName</th>\n      <th>Region</th>\n      <th>TableName</th>\n      <th>LineCode</th>\n      <th>IndustryClassification</th>\n      <th>Description</th>\n      <th>Unit</th>\n      <th>2008</th>\n      <th>2009</th>\n      <th>...</th>\n      <th>2011</th>\n      <th>2012</th>\n      <th>2013</th>\n      <th>2014</th>\n      <th>2015</th>\n      <th>2016</th>\n      <th>2017</th>\n      <th>2018</th>\n      <th>2019</th>\n      <th>2020</th>\n    </tr>\n  </thead>\n  <tbody>\n    <tr>\n      <th>0</th>\n      <td>\"00000\"</td>\n      <td>United States</td>\n      <td></td>\n      <td>MARPI</td>\n      <td>1</td>\n      <td>...</td>\n      <td>Real personal income (thousands of constant (2...</td>\n      <td>Thousands of chained 2012 dollars</td>\n      <td>13226438104</td>\n      <td>12835528512</td>\n      <td>...</td>\n      <td>13578992118</td>\n      <td>14003346000</td>\n      <td>13999660322</td>\n      <td>14549525541</td>\n      <td>15207440020</td>\n      <td>15451718336</td>\n      <td>15883838361</td>\n      <td>16323319245</td>\n      <td>16740966295</td>\n      <td>17628679929</td>\n    </tr>\n    <tr>\n      <th>1</th>\n      <td>\"00999\"</td>\n      <td>United States (Nonmetropolitan Portion)</td>\n      <td></td>\n      <td>MARPI</td>\n      <td>1</td>\n      <td>...</td>\n      <td>Real personal income (thousands of constant (2...</td>\n      <td>Thousands of chained 2012 dollars</td>\n      <td>1759296813</td>\n      <td>1726603797</td>\n      <td>...</td>\n      <td>1793356792</td>\n      <td>1816098135</td>\n      <td>1818106548</td>\n      <td>1856006720</td>\n      <td>1901557051</td>\n      <td>1905310690</td>\n      <td>1940943207</td>\n      <td>1937183350</td>\n      <td>1974120571</td>\n      <td>2115441032</td>\n    </tr>\n    <tr>\n      <th>2</th>\n      <td>\"10180\"</td>\n      <td>Abilene, TX (Metropolitan Statistical Area)</td>\n      <td></td>\n      <td>MARPI</td>\n      <td>1</td>\n      <td>...</td>\n      <td>Real personal income (thousands of constant (2...</td>\n      <td>Thousands of chained 2012 dollars</td>\n      <td>6516280</td>\n      <td>6417653</td>\n      <td>...</td>\n      <td>6708568</td>\n      <td>6860195</td>\n      <td>7126927</td>\n      <td>7276677</td>\n      <td>7177769</td>\n      <td>6956803</td>\n      <td>7048707</td>\n      <td>7444927</td>\n      <td>7857445</td>\n      <td>8267776</td>\n    </tr>\n    <tr>\n      <th>3</th>\n      <td>\"10420\"</td>\n      <td>Akron, OH (Metropolitan Statistical Area)</td>\n      <td></td>\n      <td>MARPI</td>\n      <td>1</td>\n      <td>...</td>\n      <td>Real personal income (thousands of constant (2...</td>\n      <td>Thousands of chained 2012 dollars</td>\n      <td>31299301</td>\n      <td>29496788</td>\n      <td>...</td>\n      <td>30602854</td>\n      <td>30344944</td>\n      <td>30606195</td>\n      <td>31494725</td>\n      <td>32594998</td>\n      <td>32822702</td>\n      <td>33296567</td>\n      <td>34431634</td>\n      <td>35130005</td>\n      <td>37353892</td>\n    </tr>\n    <tr>\n      <th>4</th>\n      <td>\"10500\"</td>\n      <td>Albany, GA (Metropolitan Statistical Area)</td>\n      <td></td>\n      <td>MARPI</td>\n      <td>1</td>\n      <td>...</td>\n      <td>Real personal income (thousands of constant (2...</td>\n      <td>Thousands of chained 2012 dollars</td>\n      <td>5457088</td>\n      <td>5560486</td>\n      <td>...</td>\n      <td>5774623</td>\n      <td>5723514</td>\n      <td>5542406</td>\n      <td>5559543</td>\n      <td>5646138</td>\n      <td>5581975</td>\n      <td>5705634</td>\n      <td>5760768</td>\n      <td>6074927</td>\n      <td>6620352</td>\n    </tr>\n  </tbody>\n</table>\n<p>5 rows × 21 columns</p>\n</div>"
     },
     "execution_count": 63,
     "metadata": {},
     "output_type": "execute_result"
    }
   ],
   "source": [
    "income_df.head()"
   ],
   "metadata": {
    "collapsed": false
   }
  },
  {
   "cell_type": "code",
   "execution_count": 64,
   "outputs": [],
   "source": [
    "# Filter the per capita income rows\n",
    "income_df = income_df[income_df[\"Description\"] == \"Real per capita personal income (constant (2012) dollars) 2/\"]\n",
    "income_df = income_df[[\"GeoFIPS\", \"2020\"]]\n",
    "income_df = income_df.rename(columns={\"GeoFIPS\": \"msa\", \"2020\": \"avg_income_2020\"})"
   ],
   "metadata": {
    "collapsed": false
   }
  },
  {
   "cell_type": "code",
   "execution_count": 65,
   "outputs": [],
   "source": [
    "income_df.msa = income_df.msa.apply(lambda x: x.replace('\"', \"\"))\n",
    "income_df.msa = pd.to_numeric(income_df.msa)"
   ],
   "metadata": {
    "collapsed": false
   }
  },
  {
   "cell_type": "code",
   "execution_count": 69,
   "outputs": [],
   "source": [
    "income_df.to_csv('../../../data/preprocessed/income_data_preprocessed.csv',index=False)"
   ],
   "metadata": {
    "collapsed": false
   }
  },
  {
   "cell_type": "markdown",
   "source": [
    "## Preprocess Life Expectancy Dataset"
   ],
   "metadata": {
    "collapsed": false
   }
  },
  {
   "cell_type": "code",
   "execution_count": 98,
   "outputs": [],
   "source": [
    "life_expectancy_df = pd.read_csv('../../../data/raw/us_life_expectancy_data.csv')\n",
    "us_state_ansi_fips = pd.read_csv('../../../data/raw/us-state-ansi-fips.csv')"
   ],
   "metadata": {
    "collapsed": false
   }
  },
  {
   "cell_type": "code",
   "execution_count": 99,
   "outputs": [
    {
     "data": {
      "text/plain": "     State              County  Census Tract Number  Life Expectancy  \\\n0  Alabama  Autauga County, AL                201.0             73.1   \n1  Alabama  Autauga County, AL                202.0             76.9   \n2  Alabama  Autauga County, AL                203.0              NaN   \n3  Alabama  Autauga County, AL                204.0             75.4   \n4  Alabama  Autauga County, AL                205.0             79.4   \n\n  Life Expectancy Range  Life Expectancy Standard Error  \n0             56.9-75.1                          2.2348  \n1             75.2-77.5                          3.3453  \n2                   NaN                             NaN  \n3             75.2-77.5                          1.0216  \n4             77.6-79.5                          1.1768  ",
      "text/html": "<div>\n<style scoped>\n    .dataframe tbody tr th:only-of-type {\n        vertical-align: middle;\n    }\n\n    .dataframe tbody tr th {\n        vertical-align: top;\n    }\n\n    .dataframe thead th {\n        text-align: right;\n    }\n</style>\n<table border=\"1\" class=\"dataframe\">\n  <thead>\n    <tr style=\"text-align: right;\">\n      <th></th>\n      <th>State</th>\n      <th>County</th>\n      <th>Census Tract Number</th>\n      <th>Life Expectancy</th>\n      <th>Life Expectancy Range</th>\n      <th>Life Expectancy Standard Error</th>\n    </tr>\n  </thead>\n  <tbody>\n    <tr>\n      <th>0</th>\n      <td>Alabama</td>\n      <td>Autauga County, AL</td>\n      <td>201.0</td>\n      <td>73.1</td>\n      <td>56.9-75.1</td>\n      <td>2.2348</td>\n    </tr>\n    <tr>\n      <th>1</th>\n      <td>Alabama</td>\n      <td>Autauga County, AL</td>\n      <td>202.0</td>\n      <td>76.9</td>\n      <td>75.2-77.5</td>\n      <td>3.3453</td>\n    </tr>\n    <tr>\n      <th>2</th>\n      <td>Alabama</td>\n      <td>Autauga County, AL</td>\n      <td>203.0</td>\n      <td>NaN</td>\n      <td>NaN</td>\n      <td>NaN</td>\n    </tr>\n    <tr>\n      <th>3</th>\n      <td>Alabama</td>\n      <td>Autauga County, AL</td>\n      <td>204.0</td>\n      <td>75.4</td>\n      <td>75.2-77.5</td>\n      <td>1.0216</td>\n    </tr>\n    <tr>\n      <th>4</th>\n      <td>Alabama</td>\n      <td>Autauga County, AL</td>\n      <td>205.0</td>\n      <td>79.4</td>\n      <td>77.6-79.5</td>\n      <td>1.1768</td>\n    </tr>\n  </tbody>\n</table>\n</div>"
     },
     "execution_count": 99,
     "metadata": {},
     "output_type": "execute_result"
    }
   ],
   "source": [
    "life_expectancy_df.head()"
   ],
   "metadata": {
    "collapsed": false
   }
  },
  {
   "cell_type": "code",
   "execution_count": 100,
   "outputs": [],
   "source": [
    "# select desired cols\n",
    "life_expectancy_df = life_expectancy_df[['State','Life Expectancy']]\n",
    "\n",
    "# Filter null values\n",
    "life_expectancy_df = life_expectancy_df[ life_expectancy_df['Life Expectancy'].notnull()]\n",
    "\n",
    "# Compute avg life expectancy\n",
    "life_expectancy_df = life_expectancy_df.groupby('State').mean().reset_index()\n",
    "\n",
    "# Preprocess state ansi fips df\n",
    "us_state_ansi_fips.drop(columns=['stusps'],axis=1,inplace=True)\n",
    "us_state_ansi_fips['st'] = us_state_ansi_fips['st'].apply(lambda x: int(x))\n",
    "us_state_ansi_fips.rename(columns={'stname':'State','st':'FIPS State Code'},inplace=True)"
   ],
   "metadata": {
    "collapsed": false
   }
  },
  {
   "cell_type": "code",
   "execution_count": 101,
   "outputs": [
    {
     "data": {
      "text/plain": "        State  Life Expectancy\n0     Alabama        74.813987\n1      Alaska        78.914765\n2     Arizona        78.365923\n3    Arkansas        75.627466\n4  California        80.231156",
      "text/html": "<div>\n<style scoped>\n    .dataframe tbody tr th:only-of-type {\n        vertical-align: middle;\n    }\n\n    .dataframe tbody tr th {\n        vertical-align: top;\n    }\n\n    .dataframe thead th {\n        text-align: right;\n    }\n</style>\n<table border=\"1\" class=\"dataframe\">\n  <thead>\n    <tr style=\"text-align: right;\">\n      <th></th>\n      <th>State</th>\n      <th>Life Expectancy</th>\n    </tr>\n  </thead>\n  <tbody>\n    <tr>\n      <th>0</th>\n      <td>Alabama</td>\n      <td>74.813987</td>\n    </tr>\n    <tr>\n      <th>1</th>\n      <td>Alaska</td>\n      <td>78.914765</td>\n    </tr>\n    <tr>\n      <th>2</th>\n      <td>Arizona</td>\n      <td>78.365923</td>\n    </tr>\n    <tr>\n      <th>3</th>\n      <td>Arkansas</td>\n      <td>75.627466</td>\n    </tr>\n    <tr>\n      <th>4</th>\n      <td>California</td>\n      <td>80.231156</td>\n    </tr>\n  </tbody>\n</table>\n</div>"
     },
     "execution_count": 101,
     "metadata": {},
     "output_type": "execute_result"
    }
   ],
   "source": [
    "life_expectancy_df.head()"
   ],
   "metadata": {
    "collapsed": false
   }
  },
  {
   "cell_type": "code",
   "execution_count": 102,
   "outputs": [
    {
     "data": {
      "text/plain": "        State  FIPS State Code\n0     Alabama                1\n1      Alaska                2\n2     Arizona                4\n3    Arkansas                5\n4  California                6",
      "text/html": "<div>\n<style scoped>\n    .dataframe tbody tr th:only-of-type {\n        vertical-align: middle;\n    }\n\n    .dataframe tbody tr th {\n        vertical-align: top;\n    }\n\n    .dataframe thead th {\n        text-align: right;\n    }\n</style>\n<table border=\"1\" class=\"dataframe\">\n  <thead>\n    <tr style=\"text-align: right;\">\n      <th></th>\n      <th>State</th>\n      <th>FIPS State Code</th>\n    </tr>\n  </thead>\n  <tbody>\n    <tr>\n      <th>0</th>\n      <td>Alabama</td>\n      <td>1</td>\n    </tr>\n    <tr>\n      <th>1</th>\n      <td>Alaska</td>\n      <td>2</td>\n    </tr>\n    <tr>\n      <th>2</th>\n      <td>Arizona</td>\n      <td>4</td>\n    </tr>\n    <tr>\n      <th>3</th>\n      <td>Arkansas</td>\n      <td>5</td>\n    </tr>\n    <tr>\n      <th>4</th>\n      <td>California</td>\n      <td>6</td>\n    </tr>\n  </tbody>\n</table>\n</div>"
     },
     "execution_count": 102,
     "metadata": {},
     "output_type": "execute_result"
    }
   ],
   "source": [
    "us_state_ansi_fips.head()"
   ],
   "metadata": {
    "collapsed": false
   }
  },
  {
   "cell_type": "code",
   "execution_count": 103,
   "outputs": [],
   "source": [
    "merged_df = pd.merge(\n",
    "    life_expectancy_df,\n",
    "    us_state_ansi_fips,\n",
    "    how=\"inner\",\n",
    "    on='State')\n",
    "\n",
    "merged_df.drop('State',axis=1,inplace=True)"
   ],
   "metadata": {
    "collapsed": false
   }
  },
  {
   "cell_type": "code",
   "execution_count": 104,
   "outputs": [
    {
     "data": {
      "text/plain": "   Life Expectancy  FIPS State Code\n0        74.813987                1\n1        78.914765                2\n2        78.365923                4\n3        75.627466                5\n4        80.231156                6",
      "text/html": "<div>\n<style scoped>\n    .dataframe tbody tr th:only-of-type {\n        vertical-align: middle;\n    }\n\n    .dataframe tbody tr th {\n        vertical-align: top;\n    }\n\n    .dataframe thead th {\n        text-align: right;\n    }\n</style>\n<table border=\"1\" class=\"dataframe\">\n  <thead>\n    <tr style=\"text-align: right;\">\n      <th></th>\n      <th>Life Expectancy</th>\n      <th>FIPS State Code</th>\n    </tr>\n  </thead>\n  <tbody>\n    <tr>\n      <th>0</th>\n      <td>74.813987</td>\n      <td>1</td>\n    </tr>\n    <tr>\n      <th>1</th>\n      <td>78.914765</td>\n      <td>2</td>\n    </tr>\n    <tr>\n      <th>2</th>\n      <td>78.365923</td>\n      <td>4</td>\n    </tr>\n    <tr>\n      <th>3</th>\n      <td>75.627466</td>\n      <td>5</td>\n    </tr>\n    <tr>\n      <th>4</th>\n      <td>80.231156</td>\n      <td>6</td>\n    </tr>\n  </tbody>\n</table>\n</div>"
     },
     "execution_count": 104,
     "metadata": {},
     "output_type": "execute_result"
    }
   ],
   "source": [
    "merged_df.head()"
   ],
   "metadata": {
    "collapsed": false
   }
  },
  {
   "cell_type": "code",
   "execution_count": 105,
   "outputs": [],
   "source": [
    "merged_df.to_csv('../../../data/preprocessed/life_expectancy_data_preprocessed.csv',index=False)"
   ],
   "metadata": {
    "collapsed": false
   }
  },
  {
   "cell_type": "markdown",
   "source": [
    "## Merge all preprocessed datasets to master dataset"
   ],
   "metadata": {
    "collapsed": false
   }
  },
  {
   "cell_type": "code",
   "execution_count": 3,
   "outputs": [],
   "source": [
    "# Load master dataset\n",
    "priv_mcare_df = pd.read_csv('../../../data/raw/priv_mcare_f_pay.csv')\n",
    "\n",
    "# Load preprocessed hospital data\n",
    "hospital_data_df = pd.read_csv('../../../data/preprocessed/hospital_data_preprocessed.csv')\n",
    "\n",
    "# Load income preprocessed data\n",
    "income_data_df = pd.read_csv('../../../data/preprocessed/income_data_preprocessed.csv')\n",
    "\n",
    "# Load MSA population preprocessed data\n",
    "msa_population_df = pd.read_csv('../../../data/preprocessed/msa_population_2020_preprocessed.csv')\n",
    "\n",
    "# Load Life Expectancy preprocessed df\n",
    "life_expectancy_df = pd.read_csv('../../../data/preprocessed/life_expectancy_data_preprocessed.csv')"
   ],
   "metadata": {
    "collapsed": false
   }
  },
  {
   "cell_type": "code",
   "execution_count": 4,
   "outputs": [
    {
     "data": {
      "text/plain": "     msa  year       site                  group  priv_count  priv_pay_mean  \\\n0  10180  2018  Inpatient  breast reconstruction         NaN            NaN   \n1  10420  2018  Inpatient  breast reconstruction         8.0    19937.08375   \n2  10500  2018  Inpatient  breast reconstruction         NaN            NaN   \n3  10540  2018  Inpatient  breast reconstruction         NaN            NaN   \n4  10580  2018  Inpatient  breast reconstruction         4.0    14837.26000   \n\n   priv_pay_median  priv_pay_iqr  mcare_pay_mean  mcare_pay_median  \\\n0              NaN           NaN             NaN               NaN   \n1        16147.330       5692.86             NaN               NaN   \n2              NaN           NaN             NaN               NaN   \n3              NaN           NaN             NaN               NaN   \n4        10420.675       4474.06             NaN               NaN   \n\n   mcare_pay_sd                    CBSA_NAME     State  FIPS State Code  \\\n0           NaN                  Abilene, TX     Texas               48   \n1           NaN                    Akron, OH      Ohio               39   \n2           NaN                   Albany, GA   Georgia               13   \n3           NaN           Albany-Lebanon, OR    Oregon               41   \n4           NaN  Albany-Schenectady-Troy, NY  New York               36   \n\n          lon        lat  \n0  -99.733144  32.448736  \n1  -81.519005  41.081445  \n2  -84.155741  31.578507  \n3 -122.907034  44.536512  \n4  -73.653621  42.763648  ",
      "text/html": "<div>\n<style scoped>\n    .dataframe tbody tr th:only-of-type {\n        vertical-align: middle;\n    }\n\n    .dataframe tbody tr th {\n        vertical-align: top;\n    }\n\n    .dataframe thead th {\n        text-align: right;\n    }\n</style>\n<table border=\"1\" class=\"dataframe\">\n  <thead>\n    <tr style=\"text-align: right;\">\n      <th></th>\n      <th>msa</th>\n      <th>year</th>\n      <th>site</th>\n      <th>group</th>\n      <th>priv_count</th>\n      <th>priv_pay_mean</th>\n      <th>priv_pay_median</th>\n      <th>priv_pay_iqr</th>\n      <th>mcare_pay_mean</th>\n      <th>mcare_pay_median</th>\n      <th>mcare_pay_sd</th>\n      <th>CBSA_NAME</th>\n      <th>State</th>\n      <th>FIPS State Code</th>\n      <th>lon</th>\n      <th>lat</th>\n    </tr>\n  </thead>\n  <tbody>\n    <tr>\n      <th>0</th>\n      <td>10180</td>\n      <td>2018</td>\n      <td>Inpatient</td>\n      <td>breast reconstruction</td>\n      <td>NaN</td>\n      <td>NaN</td>\n      <td>NaN</td>\n      <td>NaN</td>\n      <td>NaN</td>\n      <td>NaN</td>\n      <td>NaN</td>\n      <td>Abilene, TX</td>\n      <td>Texas</td>\n      <td>48</td>\n      <td>-99.733144</td>\n      <td>32.448736</td>\n    </tr>\n    <tr>\n      <th>1</th>\n      <td>10420</td>\n      <td>2018</td>\n      <td>Inpatient</td>\n      <td>breast reconstruction</td>\n      <td>8.0</td>\n      <td>19937.08375</td>\n      <td>16147.330</td>\n      <td>5692.86</td>\n      <td>NaN</td>\n      <td>NaN</td>\n      <td>NaN</td>\n      <td>Akron, OH</td>\n      <td>Ohio</td>\n      <td>39</td>\n      <td>-81.519005</td>\n      <td>41.081445</td>\n    </tr>\n    <tr>\n      <th>2</th>\n      <td>10500</td>\n      <td>2018</td>\n      <td>Inpatient</td>\n      <td>breast reconstruction</td>\n      <td>NaN</td>\n      <td>NaN</td>\n      <td>NaN</td>\n      <td>NaN</td>\n      <td>NaN</td>\n      <td>NaN</td>\n      <td>NaN</td>\n      <td>Albany, GA</td>\n      <td>Georgia</td>\n      <td>13</td>\n      <td>-84.155741</td>\n      <td>31.578507</td>\n    </tr>\n    <tr>\n      <th>3</th>\n      <td>10540</td>\n      <td>2018</td>\n      <td>Inpatient</td>\n      <td>breast reconstruction</td>\n      <td>NaN</td>\n      <td>NaN</td>\n      <td>NaN</td>\n      <td>NaN</td>\n      <td>NaN</td>\n      <td>NaN</td>\n      <td>NaN</td>\n      <td>Albany-Lebanon, OR</td>\n      <td>Oregon</td>\n      <td>41</td>\n      <td>-122.907034</td>\n      <td>44.536512</td>\n    </tr>\n    <tr>\n      <th>4</th>\n      <td>10580</td>\n      <td>2018</td>\n      <td>Inpatient</td>\n      <td>breast reconstruction</td>\n      <td>4.0</td>\n      <td>14837.26000</td>\n      <td>10420.675</td>\n      <td>4474.06</td>\n      <td>NaN</td>\n      <td>NaN</td>\n      <td>NaN</td>\n      <td>Albany-Schenectady-Troy, NY</td>\n      <td>New York</td>\n      <td>36</td>\n      <td>-73.653621</td>\n      <td>42.763648</td>\n    </tr>\n  </tbody>\n</table>\n</div>"
     },
     "execution_count": 4,
     "metadata": {},
     "output_type": "execute_result"
    }
   ],
   "source": [
    "priv_mcare_df.head()"
   ],
   "metadata": {
    "collapsed": false
   }
  },
  {
   "cell_type": "code",
   "execution_count": 5,
   "outputs": [
    {
     "data": {
      "text/plain": "   msa  Covid_payment_mean  ownership_FEDERAL_mean  \\\n0    1        4.859510e+05                0.046875   \n1    2        0.000000e+00                0.153846   \n2    3        1.025000e+06                0.277778   \n3    4        1.690141e+04                0.000000   \n4    5        0.000000e+00                0.000000   \n\n   ownership_HOSPITAL DISTRICT OR AUTHORITY_mean  ownership_LOCAL_mean  \\\n0                                       0.265625              0.078125   \n1                                       0.000000              0.230769   \n2                                       0.055556              0.055556   \n3                                       0.000000              0.281690   \n4                                       0.357143              0.119048   \n\n   ownership_OTHER (SPECIFY)_mean  ownership_PHYSICIAN OWNERSHIP_mean  \\\n0                        0.109375                                 0.0   \n1                        0.307692                                 0.0   \n2                        0.111111                                 0.0   \n3                        0.056338                                 0.0   \n4                        0.190476                                 0.0   \n\n   ownership_PRIVATE (FOR PROFIT)_mean  \\\n0                             0.328125   \n1                             0.000000   \n2                             0.166667   \n3                             0.225352   \n4                             0.071429   \n\n   ownership_PRIVATE (NOT FOR PROFIT)_mean  ownership_STATE_mean  ...  \\\n0                                 0.156250                   0.0  ...   \n1                                 0.153846                   0.0  ...   \n2                                 0.277778                   0.0  ...   \n3                                 0.366197                   0.0  ...   \n4                                 0.142857                   0.0  ...   \n\n   ownership_PRIVATE (NOT FOR PROFIT)_mode  ownership_STATE_mode  \\\n0                                      0.0                   0.0   \n1                                      0.0                   0.0   \n2                                      0.0                   0.0   \n3                                      0.0                   0.0   \n4                                      0.0                   0.0   \n\n   ownership_TRIBAL_mode  urban_rural_URBAN_mode  teaching_YES_mode  \\\n0                    0.0                     0.0                0.0   \n1                    0.0                     0.0                0.0   \n2                    0.0                     0.0                0.0   \n3                    0.0                     0.0                0.0   \n4                    0.0                     0.0                0.0   \n\n   beds_grp_100-199_mode  beds_grp_200-299_mode  beds_grp_300-399_mode  \\\n0                    0.0                    0.0                    0.0   \n1                    0.0                    0.0                    0.0   \n2                    0.0                    0.0                    0.0   \n3                    0.0                    0.0                    0.0   \n4                    0.0                    0.0                    0.0   \n\n   beds_grp_400-499_mode  beds_grp_500+_mode  \n0                    0.0                 0.0  \n1                    0.0                 0.0  \n2                    0.0                 0.0  \n3                    0.0                 0.0  \n4                    0.0                 0.0  \n\n[5 rows x 86 columns]",
      "text/html": "<div>\n<style scoped>\n    .dataframe tbody tr th:only-of-type {\n        vertical-align: middle;\n    }\n\n    .dataframe tbody tr th {\n        vertical-align: top;\n    }\n\n    .dataframe thead th {\n        text-align: right;\n    }\n</style>\n<table border=\"1\" class=\"dataframe\">\n  <thead>\n    <tr style=\"text-align: right;\">\n      <th></th>\n      <th>msa</th>\n      <th>Covid_payment_mean</th>\n      <th>ownership_FEDERAL_mean</th>\n      <th>ownership_HOSPITAL DISTRICT OR AUTHORITY_mean</th>\n      <th>ownership_LOCAL_mean</th>\n      <th>ownership_OTHER (SPECIFY)_mean</th>\n      <th>ownership_PHYSICIAN OWNERSHIP_mean</th>\n      <th>ownership_PRIVATE (FOR PROFIT)_mean</th>\n      <th>ownership_PRIVATE (NOT FOR PROFIT)_mean</th>\n      <th>ownership_STATE_mean</th>\n      <th>...</th>\n      <th>ownership_PRIVATE (NOT FOR PROFIT)_mode</th>\n      <th>ownership_STATE_mode</th>\n      <th>ownership_TRIBAL_mode</th>\n      <th>urban_rural_URBAN_mode</th>\n      <th>teaching_YES_mode</th>\n      <th>beds_grp_100-199_mode</th>\n      <th>beds_grp_200-299_mode</th>\n      <th>beds_grp_300-399_mode</th>\n      <th>beds_grp_400-499_mode</th>\n      <th>beds_grp_500+_mode</th>\n    </tr>\n  </thead>\n  <tbody>\n    <tr>\n      <th>0</th>\n      <td>1</td>\n      <td>4.859510e+05</td>\n      <td>0.046875</td>\n      <td>0.265625</td>\n      <td>0.078125</td>\n      <td>0.109375</td>\n      <td>0.0</td>\n      <td>0.328125</td>\n      <td>0.156250</td>\n      <td>0.0</td>\n      <td>...</td>\n      <td>0.0</td>\n      <td>0.0</td>\n      <td>0.0</td>\n      <td>0.0</td>\n      <td>0.0</td>\n      <td>0.0</td>\n      <td>0.0</td>\n      <td>0.0</td>\n      <td>0.0</td>\n      <td>0.0</td>\n    </tr>\n    <tr>\n      <th>1</th>\n      <td>2</td>\n      <td>0.000000e+00</td>\n      <td>0.153846</td>\n      <td>0.000000</td>\n      <td>0.230769</td>\n      <td>0.307692</td>\n      <td>0.0</td>\n      <td>0.000000</td>\n      <td>0.153846</td>\n      <td>0.0</td>\n      <td>...</td>\n      <td>0.0</td>\n      <td>0.0</td>\n      <td>0.0</td>\n      <td>0.0</td>\n      <td>0.0</td>\n      <td>0.0</td>\n      <td>0.0</td>\n      <td>0.0</td>\n      <td>0.0</td>\n      <td>0.0</td>\n    </tr>\n    <tr>\n      <th>2</th>\n      <td>3</td>\n      <td>1.025000e+06</td>\n      <td>0.277778</td>\n      <td>0.055556</td>\n      <td>0.055556</td>\n      <td>0.111111</td>\n      <td>0.0</td>\n      <td>0.166667</td>\n      <td>0.277778</td>\n      <td>0.0</td>\n      <td>...</td>\n      <td>0.0</td>\n      <td>0.0</td>\n      <td>0.0</td>\n      <td>0.0</td>\n      <td>0.0</td>\n      <td>0.0</td>\n      <td>0.0</td>\n      <td>0.0</td>\n      <td>0.0</td>\n      <td>0.0</td>\n    </tr>\n    <tr>\n      <th>3</th>\n      <td>4</td>\n      <td>1.690141e+04</td>\n      <td>0.000000</td>\n      <td>0.000000</td>\n      <td>0.281690</td>\n      <td>0.056338</td>\n      <td>0.0</td>\n      <td>0.225352</td>\n      <td>0.366197</td>\n      <td>0.0</td>\n      <td>...</td>\n      <td>0.0</td>\n      <td>0.0</td>\n      <td>0.0</td>\n      <td>0.0</td>\n      <td>0.0</td>\n      <td>0.0</td>\n      <td>0.0</td>\n      <td>0.0</td>\n      <td>0.0</td>\n      <td>0.0</td>\n    </tr>\n    <tr>\n      <th>4</th>\n      <td>5</td>\n      <td>0.000000e+00</td>\n      <td>0.000000</td>\n      <td>0.357143</td>\n      <td>0.119048</td>\n      <td>0.190476</td>\n      <td>0.0</td>\n      <td>0.071429</td>\n      <td>0.142857</td>\n      <td>0.0</td>\n      <td>...</td>\n      <td>0.0</td>\n      <td>0.0</td>\n      <td>0.0</td>\n      <td>0.0</td>\n      <td>0.0</td>\n      <td>0.0</td>\n      <td>0.0</td>\n      <td>0.0</td>\n      <td>0.0</td>\n      <td>0.0</td>\n    </tr>\n  </tbody>\n</table>\n<p>5 rows × 86 columns</p>\n</div>"
     },
     "execution_count": 5,
     "metadata": {},
     "output_type": "execute_result"
    }
   ],
   "source": [
    "hospital_data_df.head()"
   ],
   "metadata": {
    "collapsed": false
   }
  },
  {
   "cell_type": "code",
   "execution_count": 6,
   "outputs": [
    {
     "data": {
      "text/plain": "     msa  avg_income_2020\n0      0     8.814367e+09\n1    999     1.057744e+09\n2  10180     4.157758e+06\n3  10420     1.870357e+07\n4  10500     3.332972e+06",
      "text/html": "<div>\n<style scoped>\n    .dataframe tbody tr th:only-of-type {\n        vertical-align: middle;\n    }\n\n    .dataframe tbody tr th {\n        vertical-align: top;\n    }\n\n    .dataframe thead th {\n        text-align: right;\n    }\n</style>\n<table border=\"1\" class=\"dataframe\">\n  <thead>\n    <tr style=\"text-align: right;\">\n      <th></th>\n      <th>msa</th>\n      <th>avg_income_2020</th>\n    </tr>\n  </thead>\n  <tbody>\n    <tr>\n      <th>0</th>\n      <td>0</td>\n      <td>8.814367e+09</td>\n    </tr>\n    <tr>\n      <th>1</th>\n      <td>999</td>\n      <td>1.057744e+09</td>\n    </tr>\n    <tr>\n      <th>2</th>\n      <td>10180</td>\n      <td>4.157758e+06</td>\n    </tr>\n    <tr>\n      <th>3</th>\n      <td>10420</td>\n      <td>1.870357e+07</td>\n    </tr>\n    <tr>\n      <th>4</th>\n      <td>10500</td>\n      <td>3.332972e+06</td>\n    </tr>\n  </tbody>\n</table>\n</div>"
     },
     "execution_count": 6,
     "metadata": {},
     "output_type": "execute_result"
    }
   ],
   "source": [
    "income_data_df.head()"
   ],
   "metadata": {
    "collapsed": false
   }
  },
  {
   "cell_type": "code",
   "execution_count": 7,
   "outputs": [
    {
     "data": {
      "text/plain": "     msa  population_estimate_2020\n0  10180                    173185\n1  10420                    701449\n2  10500                    145206\n3  10540                    131054\n4  10580                    878550",
      "text/html": "<div>\n<style scoped>\n    .dataframe tbody tr th:only-of-type {\n        vertical-align: middle;\n    }\n\n    .dataframe tbody tr th {\n        vertical-align: top;\n    }\n\n    .dataframe thead th {\n        text-align: right;\n    }\n</style>\n<table border=\"1\" class=\"dataframe\">\n  <thead>\n    <tr style=\"text-align: right;\">\n      <th></th>\n      <th>msa</th>\n      <th>population_estimate_2020</th>\n    </tr>\n  </thead>\n  <tbody>\n    <tr>\n      <th>0</th>\n      <td>10180</td>\n      <td>173185</td>\n    </tr>\n    <tr>\n      <th>1</th>\n      <td>10420</td>\n      <td>701449</td>\n    </tr>\n    <tr>\n      <th>2</th>\n      <td>10500</td>\n      <td>145206</td>\n    </tr>\n    <tr>\n      <th>3</th>\n      <td>10540</td>\n      <td>131054</td>\n    </tr>\n    <tr>\n      <th>4</th>\n      <td>10580</td>\n      <td>878550</td>\n    </tr>\n  </tbody>\n</table>\n</div>"
     },
     "execution_count": 7,
     "metadata": {},
     "output_type": "execute_result"
    }
   ],
   "source": [
    "msa_population_df.head()"
   ],
   "metadata": {
    "collapsed": false
   }
  },
  {
   "cell_type": "code",
   "execution_count": 8,
   "outputs": [
    {
     "data": {
      "text/plain": "   Life Expectancy  FIPS State Code\n0        74.813987                1\n1        78.914765                2\n2        78.365923                4\n3        75.627466                5\n4        80.231156                6",
      "text/html": "<div>\n<style scoped>\n    .dataframe tbody tr th:only-of-type {\n        vertical-align: middle;\n    }\n\n    .dataframe tbody tr th {\n        vertical-align: top;\n    }\n\n    .dataframe thead th {\n        text-align: right;\n    }\n</style>\n<table border=\"1\" class=\"dataframe\">\n  <thead>\n    <tr style=\"text-align: right;\">\n      <th></th>\n      <th>Life Expectancy</th>\n      <th>FIPS State Code</th>\n    </tr>\n  </thead>\n  <tbody>\n    <tr>\n      <th>0</th>\n      <td>74.813987</td>\n      <td>1</td>\n    </tr>\n    <tr>\n      <th>1</th>\n      <td>78.914765</td>\n      <td>2</td>\n    </tr>\n    <tr>\n      <th>2</th>\n      <td>78.365923</td>\n      <td>4</td>\n    </tr>\n    <tr>\n      <th>3</th>\n      <td>75.627466</td>\n      <td>5</td>\n    </tr>\n    <tr>\n      <th>4</th>\n      <td>80.231156</td>\n      <td>6</td>\n    </tr>\n  </tbody>\n</table>\n</div>"
     },
     "execution_count": 8,
     "metadata": {},
     "output_type": "execute_result"
    }
   ],
   "source": [
    "life_expectancy_df.head()"
   ],
   "metadata": {
    "collapsed": false
   }
  },
  {
   "cell_type": "code",
   "execution_count": 9,
   "outputs": [
    {
     "name": "stdout",
     "output_type": "stream",
     "text": [
      "(133089, 101)\n",
      "(133089, 102)\n",
      "(133089, 103)\n",
      "(133089, 104)\n"
     ]
    }
   ],
   "source": [
    "# Merge priv_mcare_df, hospital_data_df\n",
    "merged_df = pd.merge(priv_mcare_df,hospital_data_df, how='left', left_on='msa',right_on='msa')\n",
    "print(merged_df.shape)\n",
    "\n",
    "# Merge existing merged_df, income_data_df\n",
    "merged_df = pd.merge(merged_df,income_data_df, how='left', left_on='msa',right_on='msa')\n",
    "print(merged_df.shape)\n",
    "\n",
    "# Merge existing merged_df, msa_population_df\n",
    "merged_df = pd.merge(merged_df,msa_population_df, how='left', left_on='msa',right_on='msa')\n",
    "print(merged_df.shape)\n",
    "\n",
    "# Merge existing merged_df, life_expectancy_df\n",
    "merged_df = pd.merge(merged_df,life_expectancy_df, how='left', left_on='FIPS State Code',right_on='FIPS State Code')\n",
    "print(merged_df.shape)"
   ],
   "metadata": {
    "collapsed": false
   }
  },
  {
   "cell_type": "code",
   "execution_count": 10,
   "outputs": [
    {
     "data": {
      "text/plain": "     msa  year       site                  group  priv_count  priv_pay_mean  \\\n0  10180  2018  Inpatient  breast reconstruction         NaN            NaN   \n1  10420  2018  Inpatient  breast reconstruction         8.0    19937.08375   \n2  10500  2018  Inpatient  breast reconstruction         NaN            NaN   \n3  10540  2018  Inpatient  breast reconstruction         NaN            NaN   \n4  10580  2018  Inpatient  breast reconstruction         4.0    14837.26000   \n\n   priv_pay_median  priv_pay_iqr  mcare_pay_mean  mcare_pay_median  ...  \\\n0              NaN           NaN             NaN               NaN  ...   \n1        16147.330       5692.86             NaN               NaN  ...   \n2              NaN           NaN             NaN               NaN  ...   \n3              NaN           NaN             NaN               NaN  ...   \n4        10420.675       4474.06             NaN               NaN  ...   \n\n   urban_rural_URBAN_mode teaching_YES_mode beds_grp_100-199_mode  \\\n0                     1.0               0.0                   0.0   \n1                     1.0               1.0                   0.0   \n2                     1.0               0.0                   0.0   \n3                     1.0               0.5                   0.0   \n4                     1.0               0.0                   0.0   \n\n   beds_grp_200-299_mode  beds_grp_300-399_mode  beds_grp_400-499_mode  \\\n0                    0.0                    0.0                    0.0   \n1                    0.0                    0.0                    0.0   \n2                    0.0                    0.0                    0.0   \n3                    0.0                    0.0                    0.0   \n4                    0.0                    0.0                    0.0   \n\n   beds_grp_500+_mode  avg_income_2020  population_estimate_2020  \\\n0                 0.0        4157758.0                  173185.0   \n1                 0.0       18703572.0                  701449.0   \n2                 0.0        3332972.5                  145206.0   \n3                 0.0        2816254.5                  131054.0   \n4                 0.0       25771091.5                  878550.0   \n\n   Life Expectancy  \n0        77.864183  \n1        76.567472  \n2        76.615437  \n3        79.088550  \n4        80.327023  \n\n[5 rows x 104 columns]",
      "text/html": "<div>\n<style scoped>\n    .dataframe tbody tr th:only-of-type {\n        vertical-align: middle;\n    }\n\n    .dataframe tbody tr th {\n        vertical-align: top;\n    }\n\n    .dataframe thead th {\n        text-align: right;\n    }\n</style>\n<table border=\"1\" class=\"dataframe\">\n  <thead>\n    <tr style=\"text-align: right;\">\n      <th></th>\n      <th>msa</th>\n      <th>year</th>\n      <th>site</th>\n      <th>group</th>\n      <th>priv_count</th>\n      <th>priv_pay_mean</th>\n      <th>priv_pay_median</th>\n      <th>priv_pay_iqr</th>\n      <th>mcare_pay_mean</th>\n      <th>mcare_pay_median</th>\n      <th>...</th>\n      <th>urban_rural_URBAN_mode</th>\n      <th>teaching_YES_mode</th>\n      <th>beds_grp_100-199_mode</th>\n      <th>beds_grp_200-299_mode</th>\n      <th>beds_grp_300-399_mode</th>\n      <th>beds_grp_400-499_mode</th>\n      <th>beds_grp_500+_mode</th>\n      <th>avg_income_2020</th>\n      <th>population_estimate_2020</th>\n      <th>Life Expectancy</th>\n    </tr>\n  </thead>\n  <tbody>\n    <tr>\n      <th>0</th>\n      <td>10180</td>\n      <td>2018</td>\n      <td>Inpatient</td>\n      <td>breast reconstruction</td>\n      <td>NaN</td>\n      <td>NaN</td>\n      <td>NaN</td>\n      <td>NaN</td>\n      <td>NaN</td>\n      <td>NaN</td>\n      <td>...</td>\n      <td>1.0</td>\n      <td>0.0</td>\n      <td>0.0</td>\n      <td>0.0</td>\n      <td>0.0</td>\n      <td>0.0</td>\n      <td>0.0</td>\n      <td>4157758.0</td>\n      <td>173185.0</td>\n      <td>77.864183</td>\n    </tr>\n    <tr>\n      <th>1</th>\n      <td>10420</td>\n      <td>2018</td>\n      <td>Inpatient</td>\n      <td>breast reconstruction</td>\n      <td>8.0</td>\n      <td>19937.08375</td>\n      <td>16147.330</td>\n      <td>5692.86</td>\n      <td>NaN</td>\n      <td>NaN</td>\n      <td>...</td>\n      <td>1.0</td>\n      <td>1.0</td>\n      <td>0.0</td>\n      <td>0.0</td>\n      <td>0.0</td>\n      <td>0.0</td>\n      <td>0.0</td>\n      <td>18703572.0</td>\n      <td>701449.0</td>\n      <td>76.567472</td>\n    </tr>\n    <tr>\n      <th>2</th>\n      <td>10500</td>\n      <td>2018</td>\n      <td>Inpatient</td>\n      <td>breast reconstruction</td>\n      <td>NaN</td>\n      <td>NaN</td>\n      <td>NaN</td>\n      <td>NaN</td>\n      <td>NaN</td>\n      <td>NaN</td>\n      <td>...</td>\n      <td>1.0</td>\n      <td>0.0</td>\n      <td>0.0</td>\n      <td>0.0</td>\n      <td>0.0</td>\n      <td>0.0</td>\n      <td>0.0</td>\n      <td>3332972.5</td>\n      <td>145206.0</td>\n      <td>76.615437</td>\n    </tr>\n    <tr>\n      <th>3</th>\n      <td>10540</td>\n      <td>2018</td>\n      <td>Inpatient</td>\n      <td>breast reconstruction</td>\n      <td>NaN</td>\n      <td>NaN</td>\n      <td>NaN</td>\n      <td>NaN</td>\n      <td>NaN</td>\n      <td>NaN</td>\n      <td>...</td>\n      <td>1.0</td>\n      <td>0.5</td>\n      <td>0.0</td>\n      <td>0.0</td>\n      <td>0.0</td>\n      <td>0.0</td>\n      <td>0.0</td>\n      <td>2816254.5</td>\n      <td>131054.0</td>\n      <td>79.088550</td>\n    </tr>\n    <tr>\n      <th>4</th>\n      <td>10580</td>\n      <td>2018</td>\n      <td>Inpatient</td>\n      <td>breast reconstruction</td>\n      <td>4.0</td>\n      <td>14837.26000</td>\n      <td>10420.675</td>\n      <td>4474.06</td>\n      <td>NaN</td>\n      <td>NaN</td>\n      <td>...</td>\n      <td>1.0</td>\n      <td>0.0</td>\n      <td>0.0</td>\n      <td>0.0</td>\n      <td>0.0</td>\n      <td>0.0</td>\n      <td>0.0</td>\n      <td>25771091.5</td>\n      <td>878550.0</td>\n      <td>80.327023</td>\n    </tr>\n  </tbody>\n</table>\n<p>5 rows × 104 columns</p>\n</div>"
     },
     "execution_count": 10,
     "metadata": {},
     "output_type": "execute_result"
    }
   ],
   "source": [
    "merged_df.head()"
   ],
   "metadata": {
    "collapsed": false
   }
  },
  {
   "cell_type": "code",
   "execution_count": 105,
   "outputs": [],
   "source": [
    "# Write final merged df\n",
    "merged_df.to_csv('../../../data/merged_dataset.csv',index=False)"
   ],
   "metadata": {
    "collapsed": false
   }
  }
 ],
 "metadata": {
  "kernelspec": {
   "display_name": "Python 3",
   "language": "python",
   "name": "python3"
  },
  "language_info": {
   "codemirror_mode": {
    "name": "ipython",
    "version": 2
   },
   "file_extension": ".py",
   "mimetype": "text/x-python",
   "name": "python",
   "nbconvert_exporter": "python",
   "pygments_lexer": "ipython2",
   "version": "2.7.6"
  }
 },
 "nbformat": 4,
 "nbformat_minor": 0
}
